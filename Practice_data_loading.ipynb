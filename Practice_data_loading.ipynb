{
  "metadata": {
    "kernelspec": {
      "name": "python",
      "display_name": "Python (Pyodide)",
      "language": "python"
    },
    "language_info": {
      "codemirror_mode": {
        "name": "python",
        "version": 3
      },
      "file_extension": ".py",
      "mimetype": "text/x-python",
      "name": "python",
      "nbconvert_exporter": "python",
      "pygments_lexer": "ipython3",
      "version": "3.8"
    },
    "prev_pub_hash": "7997b8a71ae7e2680cb74e72fc353601a4a722981b15b6b93a8bf964c115ec58",
    "colab": {
      "provenance": [],
      "include_colab_link": true
    }
  },
  "nbformat_minor": 0,
  "nbformat": 4,
  "cells": [
    {
      "cell_type": "markdown",
      "metadata": {
        "id": "view-in-github",
        "colab_type": "text"
      },
      "source": [
        "<a href=\"https://colab.research.google.com/github/phanie711/lab7_data_science_python/blob/main/Practice_data_loading.ipynb\" target=\"_parent\"><img src=\"https://colab.research.google.com/assets/colab-badge.svg\" alt=\"Open In Colab\"/></a>"
      ]
    },
    {
      "cell_type": "markdown",
      "source": [
        "<p style=\"text-align:center\">\n",
        "    <a href=\"https://skills.network\" target=\"_blank\">\n",
        "    <img src=\"https://cf-courses-data.s3.us.cloud-object-storage.appdomain.cloud/assets/logos/SN_web_lightmode.png\" width=\"300\" alt=\"Skills Network Logo\">\n",
        "    </a>\n",
        "</p>\n"
      ],
      "metadata": {
        "id": "DXo8ZbC_i9V3"
      }
    },
    {
      "cell_type": "markdown",
      "source": [
        "# **Hands-on Practice Lab: Importing Dataset - Laptops Pricing**\n",
        "\n",
        "Estimated time needed: **20** minutes\n",
        "\n",
        "In this lab, you will practice the process of loading and drawing basic insights on a dataset as learnt through the module. You are being provided with a fresh dataset on 'Laptop Pricing' which will be used for all the practice labs throughout the course.\n"
      ],
      "metadata": {
        "id": "1fJe5h4Oi9V6"
      }
    },
    {
      "cell_type": "markdown",
      "source": [
        "# Objectives\n",
        "\n",
        "After completing this lab you will be able to:\n",
        "\n",
        " - Import a dataset from a CSV file to a Pandas dataframe\n",
        " - Develop some basic insights about the dataset\n"
      ],
      "metadata": {
        "id": "9V4Iwgjri9V7"
      }
    },
    {
      "cell_type": "markdown",
      "source": [
        "# Setup\n"
      ],
      "metadata": {
        "id": "st7l3DrGi9V7"
      }
    },
    {
      "cell_type": "markdown",
      "source": [
        "For this lab, we will be using the following libraries:\n",
        "\n",
        "* `skillsnetwork` for downloading the daataset\n",
        "\n",
        "*   [`pandas`](https://pandas.pydata.org/?utm_medium=Exinfluencer&utm_source=Exinfluencer&utm_content=000026UJ&utm_term=10006555&utm_id=NA-SkillsNetwork-Channel-SkillsNetworkCoursesIBMML0187ENSkillsNetwork31430127-2021-01-01) for managing the data.\n",
        "*   [`numpy`](https://numpy.org/?utm_medium=Exinfluencer&utm_source=Exinfluencer&utm_content=000026UJ&utm_term=10006555&utm_id=NA-SkillsNetwork-Channel-SkillsNetworkCoursesIBMML0187ENSkillsNetwork31430127-2021-01-01) for mathematical operations.\n"
      ],
      "metadata": {
        "id": "LcJ2qM7Wi9V8"
      }
    },
    {
      "cell_type": "markdown",
      "source": [
        "### Importing Required Libraries\n"
      ],
      "metadata": {
        "id": "dXrNFfdyi9V9"
      }
    },
    {
      "cell_type": "code",
      "source": [
        "import pandas as pd\n",
        "import numpy as np"
      ],
      "metadata": {
        "id": "qTLT6M-5i9V9"
      },
      "outputs": [],
      "execution_count": null
    },
    {
      "cell_type": "markdown",
      "source": [
        "The data set to be used is available on the link below.\n"
      ],
      "metadata": {
        "id": "9v267VEYi9V-"
      }
    },
    {
      "cell_type": "markdown",
      "source": [
        "The functions below will download the dataset into your browser:\n"
      ],
      "metadata": {
        "id": "9Buc80t-i9V_"
      }
    },
    {
      "cell_type": "code",
      "source": [
        "from pyodide.http import pyfetch\n",
        "\n",
        "async def download(url, filename):\n",
        "    response = await pyfetch(url)\n",
        "    if response.status == 200:\n",
        "        with open(filename, \"wb\") as f:\n",
        "            f.write(await response.bytes())"
      ],
      "metadata": {
        "id": "UI5S7U4ui9V_"
      },
      "outputs": [],
      "execution_count": null
    },
    {
      "cell_type": "code",
      "source": [
        "file_path = \"https://cf-courses-data.s3.us.cloud-object-storage.appdomain.cloud/IBMDeveloperSkillsNetwork-DA0101EN-Coursera/laptop_pricing_dataset_base.csv\""
      ],
      "metadata": {
        "id": "yLeBJehmi9V_"
      },
      "outputs": [],
      "execution_count": null
    },
    {
      "cell_type": "markdown",
      "source": [
        "To obtain the dataset, utilize the download() function as defined above:\n"
      ],
      "metadata": {
        "id": "EavXU_6Yi9WA"
      }
    },
    {
      "cell_type": "code",
      "source": [
        "await download(file_path, \"laptops.csv\")\n",
        "file_name=\"laptops.csv\""
      ],
      "metadata": {
        "id": "51LbsMiYi9WA"
      },
      "outputs": [],
      "execution_count": null
    },
    {
      "cell_type": "code",
      "source": [
        "df = pd.read_csv(file_name)"
      ],
      "metadata": {
        "id": "U_mGSqeDi9WB"
      },
      "outputs": [],
      "execution_count": null
    },
    {
      "cell_type": "markdown",
      "source": [
        "> Note: This version of the lab is working on JupyterLite, which requires the dataset to be downloaded to the interface. While working on the downloaded version of this notebook on their local machines, the learners can simply **skip the steps above**, and simply use the URL directly in the `pandas.read_csv()` function. You can uncomment and run the statements in the cell below.\n"
      ],
      "metadata": {
        "id": "vk7RUrwqi9WB"
      }
    },
    {
      "cell_type": "code",
      "source": [
        "#filepath = \"https://cf-courses-data.s3.us.cloud-object-storage.appdomain.cloud/IBMDeveloperSkillsNetwork-DA0101EN-Coursera/laptop_pricing_dataset_base.csv\"\n",
        "#df = pd.read_csv(filepath, header=None)"
      ],
      "metadata": {
        "id": "-n63R3-pi9WB"
      },
      "outputs": [],
      "execution_count": null
    },
    {
      "cell_type": "markdown",
      "source": [
        "<h1> Task #1: </h1>\n",
        "<h3>Load the dataset to a pandas dataframe named 'df'</h3>\n",
        "Print the first 5 entries of the dataset to confirm loading.\n"
      ],
      "metadata": {
        "id": "VDAtsEc7i9WC"
      }
    },
    {
      "cell_type": "code",
      "source": [
        "# Write your code below and press Shift+Enter to execute.\n",
        "df = pd.read_csv(file_name, header=None)\n",
        "print(df.head())"
      ],
      "metadata": {
        "id": "hqeJ5FOhi9WC"
      },
      "outputs": [],
      "execution_count": null
    },
    {
      "cell_type": "markdown",
      "source": [
        "<details><summary>Click here for solution</summary>\n",
        "\n",
        "```python\n",
        "df = pd.read_csv(file_name, header=None)\n",
        "print(df.head())\n",
        "```\n",
        "</details>\n"
      ],
      "metadata": {
        "id": "uay7vEWsi9WC"
      }
    },
    {
      "cell_type": "markdown",
      "source": [
        "<h1> Task #2: </h1>\n",
        "<h3>Add headers to the dataframe</h3>\n",
        "The headers for the dataset, in sequence, are \"Manufacturer\", \"Category\", \"Screen\", \"GPU\", \"OS\", \"CPU_core\",\n",
        "\"Screen_Size_inch\", \"CPU_frequency\", \"RAM_GB\", \"Storage_GB_SSD\", \"Weight_kg\" and \"Price\".\n",
        "\n",
        "Confirm insertion by printing the first 10 rows of the dataset.\n"
      ],
      "metadata": {
        "id": "PikRVLyPi9WD"
      }
    },
    {
      "cell_type": "code",
      "source": [
        "# Write your code below and press Shift+Enter to execute.\n"
      ],
      "metadata": {
        "id": "RBjHPSNDi9WD"
      },
      "outputs": [],
      "execution_count": null
    },
    {
      "cell_type": "markdown",
      "source": [
        "<details><summary>Click here for solution</summary>\n",
        "\n",
        "```python\n",
        "# create headers list\n",
        "headers = [\"Manufacturer\", \"Category\", \"Screen\", \"GPU\", \"OS\", \"CPU_core\", \"Screen_Size_inch\", \"CPU_frequency\", \"RAM_GB\", \"Storage_GB_SSD\", \"Weight_kg\", \"Price\"]\n",
        "df.columns = headers\n",
        "print(df.head(10))\n",
        "```\n",
        "</details>\n"
      ],
      "metadata": {
        "id": "AvLkuczLi9WD"
      }
    },
    {
      "cell_type": "markdown",
      "source": [
        "<h1> Task #3: </h1>\n",
        "<h3>Replace '?' with 'NaN'</h3>\n",
        "Replace the '?' entries in the dataset with NaN value, recevied from the Numpy package.\n"
      ],
      "metadata": {
        "id": "UBS_k5M2i9WE"
      }
    },
    {
      "cell_type": "code",
      "source": [
        "# Write your code below and press Shift+Enter to execute.\n"
      ],
      "metadata": {
        "id": "CcDezk0Xi9WE"
      },
      "outputs": [],
      "execution_count": null
    },
    {
      "cell_type": "markdown",
      "source": [
        "<details><summary>Click here for solution</summary>\n",
        "\n",
        "```python\n",
        "df.replace('?',np.nan, inplace = True)\n",
        "```\n",
        "</details>\n"
      ],
      "metadata": {
        "id": "r3iNGbp9i9WE"
      }
    },
    {
      "cell_type": "markdown",
      "source": [
        "<h1> Task #4: </h1>\n",
        "<h3>Print the data types of the dataframe columns</h3>\n",
        "Make a note of the data types of the different columns of the dataset.\n"
      ],
      "metadata": {
        "id": "cCFIonQKi9WF"
      }
    },
    {
      "cell_type": "code",
      "source": [
        "# Write your code below and press Shift+Enter to execute.\n"
      ],
      "metadata": {
        "id": "vkgetlxGi9WF"
      },
      "outputs": [],
      "execution_count": null
    },
    {
      "cell_type": "markdown",
      "source": [
        "<details><summary>Click here for solution</summary>\n",
        "\n",
        "```python\n",
        "print(df.dtypes)\n",
        "```\n",
        "</details>\n"
      ],
      "metadata": {
        "id": "oIQ59PQZi9WG"
      }
    },
    {
      "cell_type": "markdown",
      "source": [
        "<h1> Task #5: </h1>\n",
        "<h3>Print the statistical description of the dataset, including that of 'object' data types.</h3>\n"
      ],
      "metadata": {
        "id": "y7BJWS7ci9WG"
      }
    },
    {
      "cell_type": "code",
      "source": [
        "# Write your code below and press Shift+Enter to execute.\n"
      ],
      "metadata": {
        "id": "wMflX--Pi9WG"
      },
      "outputs": [],
      "execution_count": null
    },
    {
      "cell_type": "markdown",
      "source": [
        "<details><summary>Click here for solution</summary>\n",
        "\n",
        "```python\n",
        "print(df.describe(include='all'))\n",
        "```\n",
        "</details>\n"
      ],
      "metadata": {
        "id": "U73DK-93i9WG"
      }
    },
    {
      "cell_type": "markdown",
      "source": [
        "<h1> Task #6: </h1>\n",
        "<h3>Print the summary information of the dataset.</h3>\n"
      ],
      "metadata": {
        "id": "v8dVMwGFi9WH"
      }
    },
    {
      "cell_type": "code",
      "source": [
        "# Write your code below and press Shift+Enter to execute.\n"
      ],
      "metadata": {
        "id": "lQuja6F7i9WH"
      },
      "outputs": [],
      "execution_count": null
    },
    {
      "cell_type": "markdown",
      "source": [
        "<details><summary>Click here for solution</summary>\n",
        "\n",
        "```python\n",
        "print(df.info())\n",
        "```\n",
        "</details>\n"
      ],
      "metadata": {
        "id": "1Y4FrGHSi9WH"
      }
    },
    {
      "cell_type": "markdown",
      "source": [
        "---\n"
      ],
      "metadata": {
        "id": "QADtnM3Ai9WI"
      }
    },
    {
      "cell_type": "markdown",
      "source": [
        "# Congratulations! You have completed the lab\n"
      ],
      "metadata": {
        "id": "zIeNCR9Oi9WI"
      }
    },
    {
      "cell_type": "markdown",
      "source": [
        "## Authors\n"
      ],
      "metadata": {
        "id": "LFAMnGi-i9WI"
      }
    },
    {
      "cell_type": "markdown",
      "source": [
        "[Abhishek Gagneja](https://www.coursera.org/instructor/~129186572)\n",
        "\n",
        "[Vicky Kuo](https://author.skills.network/instructors/vicky_kuo)\n"
      ],
      "metadata": {
        "id": "HB2Bt3gdi9WI"
      }
    },
    {
      "cell_type": "markdown",
      "source": [
        "Copyright © 2023 IBM Corporation. All rights reserved.\n"
      ],
      "metadata": {
        "id": "NPo1GQA_i9WJ"
      }
    },
    {
      "cell_type": "markdown",
      "source": [
        "<!--## Change Log\n"
      ],
      "metadata": {
        "id": "ISCesyaVi9WJ"
      }
    },
    {
      "cell_type": "markdown",
      "source": [
        "<!--|Date (YYYY-MM-DD)|Version|Changed By|Change Description|\n",
        "|-|-|-|-|\n",
        "|2023-09-15|0.1|Abhishek Gagneja|Initial Version Created|\n",
        "|2023-09-18|0.2|Vicky Kuo|Reviewed and Revised|--!>\n"
      ],
      "metadata": {
        "id": "Rhh18_R8i9WJ"
      }
    }
  ]
}